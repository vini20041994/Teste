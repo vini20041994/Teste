{
  "nbformat": 4,
  "nbformat_minor": 0,
  "metadata": {
    "colab": {
      "provenance": [],
      "authorship_tag": "ABX9TyNgHanmi7LWc72TAShwpQZj",
      "include_colab_link": true
    },
    "kernelspec": {
      "name": "python3",
      "display_name": "Python 3"
    },
    "language_info": {
      "name": "python"
    }
  },
  "cells": [
    {
      "cell_type": "markdown",
      "metadata": {
        "id": "view-in-github",
        "colab_type": "text"
      },
      "source": [
        "<a href=\"https://colab.research.google.com/github/vini20041994/Teste/blob/master/Fibonacci.ipynb\" target=\"_parent\"><img src=\"https://colab.research.google.com/assets/colab-badge.svg\" alt=\"Open In Colab\"/></a>"
      ]
    },
    {
      "cell_type": "code",
      "execution_count": null,
      "metadata": {
        "colab": {
          "base_uri": "https://localhost:8080/"
        },
        "id": "1pv51z-Ppnpz",
        "outputId": "102800bb-a592-458d-a180-f40c5acf48a7"
      },
      "outputs": [
        {
          "output_type": "stream",
          "name": "stdout",
          "text": [
            "Que termo deseja encontrar: 4\n",
            "3\n"
          ]
        }
      ],
      "source": [
        "n = int(input(\"Que termo deseja encontrar: \"))\n",
        "ultimo=1\n",
        "penultimo=1\n",
        "\n",
        "\n",
        "if (n==1) or (n==2):\n",
        "    print(\"1\")\n",
        "else:\n",
        "    count=3\n",
        "    while count <= n:\n",
        "        termo = ultimo + penultimo\n",
        "        penultimo = ultimo\n",
        "        ultimo = termo\n",
        "        count += 1\n",
        "    print(termo)\n"
      ]
    },
    {
      "cell_type": "code",
      "source": [
        "# Initialize the first two Fibonacci numbers\n",
        "a = 0\n",
        "b = 1\n",
        "c = 0\n",
        "# Set the number of terms you want in the sequence\n",
        "num_terms = int(input('Quantos termos você deseja mostrar? '))\n",
        "\n",
        "# Initialize a counter\n",
        "count = 0\n",
        "\n",
        "# Generate Fibonacci sequence\n",
        "while count < num_terms:\n",
        "    print(f'{a} -> ', end='')\n",
        "    c = a + b\n",
        "    a = b\n",
        "    b = c\n",
        "    count += 1\n",
        "print('FIM!!!')"
      ],
      "metadata": {
        "colab": {
          "base_uri": "https://localhost:8080/"
        },
        "id": "uEo9yEpEqZ7H",
        "outputId": "c69c252f-9384-4b20-cfe4-500c38b827f0"
      },
      "execution_count": null,
      "outputs": [
        {
          "output_type": "stream",
          "name": "stdout",
          "text": [
            "Quantos termos você deseja mostrar? 20\n",
            "0 -> 1 -> 1 -> 2 -> 3 -> 5 -> 8 -> 13 -> 21 -> 34 -> 55 -> 89 -> 144 -> 233 -> 377 -> 610 -> 987 -> 1597 -> 2584 -> 4181 -> FIM!!!\n"
          ]
        }
      ]
    }
  ]
}